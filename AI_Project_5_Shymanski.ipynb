{
  "nbformat": 4,
  "nbformat_minor": 0,
  "metadata": {
    "colab": {
      "name": "AI Project 5 - Shymanski",
      "provenance": [],
      "collapsed_sections": []
    },
    "kernelspec": {
      "name": "python3",
      "display_name": "Python 3"
    },
    "language_info": {
      "name": "python"
    },
    "accelerator": "GPU"
  },
  "cells": [
    {
      "cell_type": "markdown",
      "metadata": {
        "id": "h67IyVsP9NMq"
      },
      "source": [
        "# AI Project 5\n",
        "\n",
        "In this project you will complete the provided Python code, using Tensorflow, to perform image classification on the Fashion-MNIST using various CNN architectures. \n",
        "\n",
        "## **Important!** \n",
        "Make sure you change your runtime type to GPU! This can be found in the top menu following \"Runtime->Change runtime type\" then select from the dropdown GPU.\n"
      ]
    },
    {
      "cell_type": "markdown",
      "metadata": {
        "id": "ET0x3Edic4sg"
      },
      "source": [
        "## Imports, Data, and Hyperparameters"
      ]
    },
    {
      "cell_type": "markdown",
      "metadata": {
        "id": "D8mFRY-Y_Ok9"
      },
      "source": [
        "### Imports"
      ]
    },
    {
      "cell_type": "code",
      "metadata": {
        "id": "r3GN4cEe_ZhO",
        "colab": {
          "base_uri": "https://localhost:8080/"
        },
        "outputId": "488b97ca-e105-4d91-de49-885beaab4b7c"
      },
      "source": [
        "import tensorflow as tf\n",
        "from tensorflow.keras import layers\n",
        "from tensorflow.keras import optimizers\n",
        "\n",
        "import numpy\n",
        "import matplotlib.pyplot as plt\n",
        "\n",
        "import time\n",
        "\n",
        "print(tf.__version__)"
      ],
      "execution_count": 2,
      "outputs": [
        {
          "output_type": "stream",
          "text": [
            "2.4.1\n"
          ],
          "name": "stdout"
        }
      ]
    },
    {
      "cell_type": "markdown",
      "metadata": {
        "id": "maFMqmYg_wKt"
      },
      "source": [
        "### Data"
      ]
    },
    {
      "cell_type": "code",
      "metadata": {
        "id": "4JcERc1O_xvO",
        "colab": {
          "base_uri": "https://localhost:8080/"
        },
        "outputId": "12a1c56c-9ae1-4301-c99c-b01f0b42da86"
      },
      "source": [
        "data = tf.keras.datasets.fashion_mnist\n",
        "\n",
        "# Separate data into train and test\n",
        "(train_data, train_labels), (test_data, test_labels) = data.load_data()\n",
        "\n",
        "# get info about data\n",
        "train_size = len(train_data)\n",
        "test_size = len(test_data)\n",
        "data_shape = train_data[0].shape\n",
        "num_classes = len(set(test_labels))\n",
        "\n",
        "print(\n",
        "    \"There are \",\n",
        "    train_size,\n",
        "    \" training examples and \",\n",
        "    test_size,\n",
        "    \" testing examples with \",\n",
        "    num_classes,\n",
        "    \" classes\",\n",
        ")"
      ],
      "execution_count": 3,
      "outputs": [
        {
          "output_type": "stream",
          "text": [
            "There are  60000  training examples and  10000  testing examples with  10  classes\n"
          ],
          "name": "stdout"
        }
      ]
    },
    {
      "cell_type": "markdown",
      "metadata": {
        "id": "h0gIOpnSAIOj"
      },
      "source": [
        "### Preprocessing"
      ]
    },
    {
      "cell_type": "code",
      "metadata": {
        "id": "4JO6YF5jAK0M",
        "colab": {
          "base_uri": "https://localhost:8080/"
        },
        "outputId": "55b88032-5c35-4da9-f496-417f10338787"
      },
      "source": [
        "print(\"Each image is of shape \", data_shape)\n",
        "\n",
        "### Preproccess Data ###\n",
        "train_data = train_data / 255\n",
        "train_data = train_data.reshape(train_size, data_shape[0], data_shape[1], 1)\n",
        "test_data = test_data / 255\n",
        "test_data = test_data.reshape(test_size, data_shape[0], data_shape[1], 1)\n",
        "\n",
        "data_shape = train_data[0].shape\n",
        "print(\"New image shape is \", data_shape)"
      ],
      "execution_count": 4,
      "outputs": [
        {
          "output_type": "stream",
          "text": [
            "Each image is of shape  (28, 28)\n",
            "New image shape is  (28, 28, 1)\n"
          ],
          "name": "stdout"
        }
      ]
    },
    {
      "cell_type": "markdown",
      "metadata": {
        "id": "H7Zli2y9CrHK"
      },
      "source": [
        "### Global Hyperparameters"
      ]
    },
    {
      "cell_type": "code",
      "metadata": {
        "id": "vXLDy0huCunw"
      },
      "source": [
        "LEARNING_RATE = 0.0001\n",
        "BATCH_SIZE = 32\n",
        "EPOCHS = 25"
      ],
      "execution_count": 5,
      "outputs": []
    },
    {
      "cell_type": "markdown",
      "metadata": {
        "id": "mI_CXCYm9jbl"
      },
      "source": [
        "## **Part 1 - The Effect of Filters**\n",
        "\n",
        "In this section you will be comparing the relative performance and training times for two different CNN architectures. \n",
        "\n",
        "Both architectures will have the following layers in order:\n",
        "\n",
        "``` Python\n",
        "Conv2D <- input layer provided\n",
        "Conv2D\n",
        "MaxPooling2D((2,2))\n",
        "Conv2D\n",
        "Conv2D\n",
        "MaxPooling2D((2,2))\n",
        "Flatten\n",
        "Dense(1024 nodes)\n",
        "Dense(num_classes, softmax) <- output layer provided\n",
        "```\n",
        "\n",
        "The input layers and output layer will be provided. \n",
        "\n",
        "In ```build_model_1A()``` the first two Conv2D layers should have 16 filters, and the second two Conv2D layers should have 32 filters.\n",
        "\n",
        "In ```build_model_1B()``` the first two Conv2d layers should have 64 filters, and the second two Conv2D layers should have 128 filters.\n",
        "\n",
        "All layers, except the output layer which is provided, should have ```activation=\"relu\"```. Also all the Conv2D layers should have ```padding=\"same\"``` and ```kernel_size=(3,3)``` passed as parameters.\n",
        "\n",
        "Only the first layer needs `input_shape` as an argument.\n",
        "\n",
        "Finally both max pooling layers should have a pool size of (2, 2)\n",
        "\n",
        "**Documentation for the each layer type:**\n",
        "\n",
        "*Conv2D*: https://keras.io/api/layers/convolution_layers/convolution2d/\n",
        "\n",
        "*MaxPooling2D*: https://keras.io/api/layers/pooling_layers/max_pooling2d/\n",
        "\n",
        "*Flatten*: https://keras.io/api/layers/reshaping_layers/flatten/\n",
        "\n",
        "*Dense*: https://keras.io/api/layers/core_layers/dense/\n",
        "\n",
        "**Documentation for Sequential model**: https://keras.io/guides/sequential_model/"
      ]
    },
    {
      "cell_type": "markdown",
      "metadata": {
        "id": "9zvsQ3bxBkpv"
      },
      "source": [
        "### ***TODO*** Model 1A"
      ]
    },
    {
      "cell_type": "code",
      "metadata": {
        "id": "qEPzweNg9FZ3"
      },
      "source": [
        "def build_model_1A():\n",
        "  return tf.keras.Sequential(\n",
        "      [layers.Conv2D( # <-- Input layer\n",
        "            filters=16,\n",
        "            kernel_size=(3, 3),\n",
        "            activation=\"relu\",\n",
        "            padding=\"same\",\n",
        "            input_shape=data_shape,\n",
        "        ),\n",
        "        layers.Conv2D(\n",
        "            filters=16,\n",
        "            kernel_size=(3, 3),\n",
        "            activation=\"relu\",\n",
        "            padding=\"same\",\n",
        "        ),\n",
        "        layers.MaxPooling2D(\n",
        "            pool_size=(2,2),\n",
        "        ),\n",
        "        layers.Conv2D(\n",
        "            filters=32,\n",
        "            kernel_size=(3, 3),\n",
        "            activation=\"relu\",\n",
        "            padding=\"same\",\n",
        "        ),\n",
        "        layers.Conv2D(\n",
        "            filters=32,\n",
        "            kernel_size=(3, 3),\n",
        "            activation=\"relu\",\n",
        "            padding=\"same\",\n",
        "        ),\n",
        "        layers.MaxPooling2D(\n",
        "            pool_size=(2,2),\n",
        "        ),\n",
        "        layers.Flatten(),\n",
        "        layers.Dense(\n",
        "            units=1024,\n",
        "            activation=\"relu\",\n",
        "        ),\n",
        "        layers.Dense(num_classes, activation=\"softmax\")] # <-- Output layer\n",
        "  )"
      ],
      "execution_count": 6,
      "outputs": []
    },
    {
      "cell_type": "markdown",
      "metadata": {
        "id": "C605QLGFCBbL"
      },
      "source": [
        "### ***TODO*** Model 1B"
      ]
    },
    {
      "cell_type": "code",
      "metadata": {
        "id": "Ujotmsx7CDKc"
      },
      "source": [
        "def build_model_1B():\n",
        "  return tf.keras.Sequential(\n",
        "      [layers.Conv2D( # <-- Input layer\n",
        "            filters=64,\n",
        "            kernel_size=(3, 3),\n",
        "            activation=\"relu\",\n",
        "            padding=\"same\",\n",
        "            input_shape=data_shape,\n",
        "        ),\n",
        "        layers.Conv2D(\n",
        "            filters=64,\n",
        "            kernel_size=(3, 3),\n",
        "            activation=\"relu\",\n",
        "            padding=\"same\",\n",
        "        ),\n",
        "        layers.MaxPooling2D(\n",
        "            pool_size=(2,2),\n",
        "        ),\n",
        "        layers.Conv2D(\n",
        "            filters=128,\n",
        "            kernel_size=(3, 3),\n",
        "            activation=\"relu\",\n",
        "            padding=\"same\",\n",
        "        ),\n",
        "        layers.Conv2D(\n",
        "            filters=128,\n",
        "            kernel_size=(3, 3),\n",
        "            activation=\"relu\",\n",
        "            padding=\"same\",\n",
        "        ),\n",
        "        layers.MaxPooling2D(\n",
        "            pool_size=(2,2),\n",
        "        ),\n",
        "        layers.Flatten(),\n",
        "        layers.Dense(\n",
        "            units=1024,\n",
        "            activation=\"relu\",\n",
        "        ),\n",
        "        layers.Dense(num_classes, activation=\"softmax\")] # <-- Output layer\n",
        "  )"
      ],
      "execution_count": 7,
      "outputs": []
    },
    {
      "cell_type": "markdown",
      "metadata": {
        "id": "ZX6a0n4YCaLz"
      },
      "source": [
        "### Model Compilation and Summaries\n",
        "\n",
        "Compiles and prints summaries for the two architectures. Do not change.\n"
      ]
    },
    {
      "cell_type": "code",
      "metadata": {
        "id": "71xHi369CZbX",
        "colab": {
          "base_uri": "https://localhost:8080/"
        },
        "outputId": "0638ad93-557d-4916-c9be-fe55be25e8cf"
      },
      "source": [
        "tf.keras.backend.clear_session() # clear previously compiled models\n",
        "\n",
        "optimizer = optimizers.Adam(lr = LEARNING_RATE) # set optimizer\n",
        "\n",
        "# get networks\n",
        "model_1a = build_model_1A() \n",
        "model_1b = build_model_1B()\n",
        "\n",
        "\n",
        "# compile networks\n",
        "model_1a.compile(\n",
        "    optimizer=optimizer,\n",
        "    loss=tf.keras.losses.SparseCategoricalCrossentropy(from_logits=True),\n",
        "    metrics=[\"accuracy\"],\n",
        ")\n",
        "\n",
        "model_1b.compile(\n",
        "    optimizer=optimizer,\n",
        "    loss=tf.keras.losses.SparseCategoricalCrossentropy(from_logits=True),\n",
        "    metrics=[\"accuracy\"],\n",
        ")\n",
        "\n",
        "# print summaries\n",
        "\n",
        "print(\"\\nModel 1A Architecture\\n\")\n",
        "model_1a.summary()\n",
        "\n",
        "print(\"\\nModel 1B Architecture\\n\")\n",
        "model_1b.summary()"
      ],
      "execution_count": 10,
      "outputs": [
        {
          "output_type": "stream",
          "text": [
            "\n",
            "Model 1A Architecture\n",
            "\n",
            "Model: \"sequential\"\n",
            "_________________________________________________________________\n",
            "Layer (type)                 Output Shape              Param #   \n",
            "=================================================================\n",
            "conv2d (Conv2D)              (None, 28, 28, 16)        160       \n",
            "_________________________________________________________________\n",
            "conv2d_1 (Conv2D)            (None, 28, 28, 16)        2320      \n",
            "_________________________________________________________________\n",
            "max_pooling2d (MaxPooling2D) (None, 14, 14, 16)        0         \n",
            "_________________________________________________________________\n",
            "conv2d_2 (Conv2D)            (None, 14, 14, 32)        4640      \n",
            "_________________________________________________________________\n",
            "conv2d_3 (Conv2D)            (None, 14, 14, 32)        9248      \n",
            "_________________________________________________________________\n",
            "max_pooling2d_1 (MaxPooling2 (None, 7, 7, 32)          0         \n",
            "_________________________________________________________________\n",
            "flatten (Flatten)            (None, 1568)              0         \n",
            "_________________________________________________________________\n",
            "dense (Dense)                (None, 1024)              1606656   \n",
            "_________________________________________________________________\n",
            "dense_1 (Dense)              (None, 10)                10250     \n",
            "=================================================================\n",
            "Total params: 1,633,274\n",
            "Trainable params: 1,633,274\n",
            "Non-trainable params: 0\n",
            "_________________________________________________________________\n",
            "\n",
            "Model 1B Architecture\n",
            "\n",
            "Model: \"sequential_1\"\n",
            "_________________________________________________________________\n",
            "Layer (type)                 Output Shape              Param #   \n",
            "=================================================================\n",
            "conv2d_4 (Conv2D)            (None, 28, 28, 64)        640       \n",
            "_________________________________________________________________\n",
            "conv2d_5 (Conv2D)            (None, 28, 28, 64)        36928     \n",
            "_________________________________________________________________\n",
            "max_pooling2d_2 (MaxPooling2 (None, 14, 14, 64)        0         \n",
            "_________________________________________________________________\n",
            "conv2d_6 (Conv2D)            (None, 14, 14, 128)       73856     \n",
            "_________________________________________________________________\n",
            "conv2d_7 (Conv2D)            (None, 14, 14, 128)       147584    \n",
            "_________________________________________________________________\n",
            "max_pooling2d_3 (MaxPooling2 (None, 7, 7, 128)         0         \n",
            "_________________________________________________________________\n",
            "flatten_1 (Flatten)          (None, 6272)              0         \n",
            "_________________________________________________________________\n",
            "dense_2 (Dense)              (None, 1024)              6423552   \n",
            "_________________________________________________________________\n",
            "dense_3 (Dense)              (None, 10)                10250     \n",
            "=================================================================\n",
            "Total params: 6,692,810\n",
            "Trainable params: 6,692,810\n",
            "Non-trainable params: 0\n",
            "_________________________________________________________________\n"
          ],
          "name": "stdout"
        }
      ]
    },
    {
      "cell_type": "markdown",
      "metadata": {
        "id": "qUpK13JZEKW1"
      },
      "source": [
        "### Testing Helper Method\n",
        "\n",
        "Method to help with testing. Do not change\n"
      ]
    },
    {
      "cell_type": "code",
      "metadata": {
        "id": "zvGTmm0gEQ5k"
      },
      "source": [
        "def perf_and_test(model, model_name):\n",
        "  start = time.time()\n",
        "  history = model.fit(train_data, train_labels, epochs=EPOCHS, batch_size=BATCH_SIZE)\n",
        "  print(\"\\n\" + model_name + \" testing information\\n\")\n",
        "  print(\"\\nTraining took \", round((time.time() - start),2), \"seconds\\n\")\n",
        "\n",
        "  print(\"\\nTesting statistics\\n\")\n",
        "  test_loss, test_acc = model.evaluate(test_data, test_labels, verbose=2)\n",
        "\n",
        "  fig,ax = plt.subplots()\n",
        "  ax.plot(history.history['accuracy'],color=\"red\")\n",
        "  ax.set_xlabel(\"epoch\",fontsize=14)\n",
        "  ax.set_ylabel(\"accuracy\", color=\"red\", fontsize=14)\n",
        "  ax2=ax.twinx()\n",
        "  ax2.plot(history.history['loss'],color=\"blue\")\n",
        "  ax2.set_ylabel(\"loss\", color=\"blue\", fontsize=14)\n",
        "  plt.title(\"Training Acc. and Loss: \" + model_name)\n",
        "  plt.show()"
      ],
      "execution_count": 8,
      "outputs": []
    },
    {
      "cell_type": "markdown",
      "metadata": {
        "id": "Rjt9DwSMXgMo"
      },
      "source": [
        "### ***TODO*** Global Hyperparameters\n",
        "\n",
        "Start with a number of epochs that seems to high. After training, examine the loss plot to identify a point of diminishing returns in training, and then set the number of training epochs equal to that."
      ]
    },
    {
      "cell_type": "code",
      "metadata": {
        "id": "GFI31S_WXgMp"
      },
      "source": [
        "EPOCHS = 25"
      ],
      "execution_count": 14,
      "outputs": []
    },
    {
      "cell_type": "markdown",
      "metadata": {
        "id": "Ni9W075_EkLR"
      },
      "source": [
        "### Testing models\n",
        "\n",
        "The following code cell will run both models and provided statistics for the training time, testing accuracy, and testing loss of the models. It also generates graphs for training accuracy and loss over time. These graphs can be used in your report.\n"
      ]
    },
    {
      "cell_type": "code",
      "metadata": {
        "id": "gpurcAUFEsoE",
        "colab": {
          "base_uri": "https://localhost:8080/",
          "height": 1000
        },
        "outputId": "f60fd574-5daa-436d-cdfb-b9a72c0d8633"
      },
      "source": [
        "### Model Compilation code included to allow for fresh reruns ###\n",
        "\n",
        "tf.keras.backend.clear_session() # clear previously compiled models\n",
        "\n",
        "optimizer = optimizers.Adam(lr = LEARNING_RATE) # set optimizer\n",
        "\n",
        "# get networks\n",
        "model_1a = build_model_1A() \n",
        "model_1b = build_model_1B()\n",
        "\n",
        "\n",
        "# compile networks\n",
        "model_1a.compile(\n",
        "    optimizer=optimizer,\n",
        "    loss=tf.keras.losses.SparseCategoricalCrossentropy(from_logits=True),\n",
        "    metrics=[\"accuracy\"],\n",
        ")\n",
        "\n",
        "model_1b.compile(\n",
        "    optimizer=optimizer,\n",
        "    loss=tf.keras.losses.SparseCategoricalCrossentropy(from_logits=True),\n",
        "    metrics=[\"accuracy\"],\n",
        ")\n",
        "\n",
        "# test\n",
        "\n",
        "perf_and_test(model_1a, \"Model 1A\")\n",
        "perf_and_test(model_1b, \"Model 1B\")"
      ],
      "execution_count": 13,
      "outputs": [
        {
          "output_type": "stream",
          "text": [
            "Epoch 1/25\n",
            "1875/1875 [==============================] - 39s 3ms/step - loss: 0.8159 - accuracy: 0.7179\n",
            "Epoch 2/25\n",
            "1875/1875 [==============================] - 6s 3ms/step - loss: 0.3774 - accuracy: 0.8660\n",
            "Epoch 3/25\n",
            "1875/1875 [==============================] - 6s 3ms/step - loss: 0.3207 - accuracy: 0.8855\n",
            "Epoch 4/25\n",
            "1875/1875 [==============================] - 6s 3ms/step - loss: 0.2822 - accuracy: 0.8973\n",
            "Epoch 5/25\n",
            "1875/1875 [==============================] - 6s 3ms/step - loss: 0.2565 - accuracy: 0.9075\n",
            "Epoch 6/25\n",
            "1875/1875 [==============================] - 6s 3ms/step - loss: 0.2362 - accuracy: 0.9150\n",
            "Epoch 7/25\n",
            "1875/1875 [==============================] - 6s 3ms/step - loss: 0.2199 - accuracy: 0.9201\n",
            "Epoch 8/25\n",
            "1875/1875 [==============================] - 6s 3ms/step - loss: 0.2019 - accuracy: 0.9271\n",
            "Epoch 9/25\n",
            "1875/1875 [==============================] - 6s 3ms/step - loss: 0.1914 - accuracy: 0.9303\n",
            "Epoch 10/25\n",
            "1875/1875 [==============================] - 6s 3ms/step - loss: 0.1784 - accuracy: 0.9353\n",
            "Epoch 11/25\n",
            "1875/1875 [==============================] - 6s 3ms/step - loss: 0.1661 - accuracy: 0.9389\n",
            "Epoch 12/25\n",
            "1875/1875 [==============================] - 6s 3ms/step - loss: 0.1524 - accuracy: 0.9437\n",
            "Epoch 13/25\n",
            "1875/1875 [==============================] - 6s 3ms/step - loss: 0.1393 - accuracy: 0.9488\n",
            "Epoch 14/25\n",
            "1875/1875 [==============================] - 6s 3ms/step - loss: 0.1303 - accuracy: 0.9524\n",
            "Epoch 15/25\n",
            "1875/1875 [==============================] - 7s 3ms/step - loss: 0.1161 - accuracy: 0.9574\n",
            "Epoch 16/25\n",
            "1875/1875 [==============================] - 7s 4ms/step - loss: 0.1092 - accuracy: 0.9602\n",
            "Epoch 17/25\n",
            "1875/1875 [==============================] - 6s 3ms/step - loss: 0.0983 - accuracy: 0.9646\n",
            "Epoch 18/25\n",
            "1875/1875 [==============================] - 6s 3ms/step - loss: 0.0888 - accuracy: 0.9681\n",
            "Epoch 19/25\n",
            "1875/1875 [==============================] - 6s 3ms/step - loss: 0.0799 - accuracy: 0.9714\n",
            "Epoch 20/25\n",
            "1875/1875 [==============================] - 6s 3ms/step - loss: 0.0701 - accuracy: 0.9760\n",
            "Epoch 21/25\n",
            "1875/1875 [==============================] - 6s 3ms/step - loss: 0.0637 - accuracy: 0.9778\n",
            "Epoch 22/25\n",
            "1875/1875 [==============================] - 7s 3ms/step - loss: 0.0557 - accuracy: 0.9813\n",
            "Epoch 23/25\n",
            "1875/1875 [==============================] - 6s 3ms/step - loss: 0.0505 - accuracy: 0.9825\n",
            "Epoch 24/25\n",
            "1875/1875 [==============================] - 6s 3ms/step - loss: 0.0450 - accuracy: 0.9844\n",
            "Epoch 25/25\n",
            "1875/1875 [==============================] - 6s 3ms/step - loss: 0.0374 - accuracy: 0.9869\n",
            "\n",
            "Model 1A testing information\n",
            "\n",
            "\n",
            "Training took  185.64 seconds\n",
            "\n",
            "\n",
            "Testing statistics\n",
            "\n",
            "313/313 - 1s - loss: 0.3146 - accuracy: 0.9214\n"
          ],
          "name": "stdout"
        },
        {
          "output_type": "display_data",
          "data": {
            "image/png": "[encoded data removed]",
            "text/plain": [
              "<Figure size 432x288 with 2 Axes>"
            ]
          },
          "metadata": {
            "tags": [],
            "needs_background": "light"
          }
        },
        {
          "output_type": "stream",
          "text": [
            "Epoch 1/25\n",
            "1875/1875 [==============================] - 14s 7ms/step - loss: 0.5019 - accuracy: 0.8150\n",
            "Epoch 2/25\n",
            "1875/1875 [==============================] - 13s 7ms/step - loss: 0.2574 - accuracy: 0.9076\n",
            "Epoch 3/25\n",
            "1875/1875 [==============================] - 13s 7ms/step - loss: 0.2052 - accuracy: 0.9241\n",
            "Epoch 4/25\n",
            "1875/1875 [==============================] - 13s 7ms/step - loss: 0.1732 - accuracy: 0.9370\n",
            "Epoch 5/25\n",
            "1875/1875 [==============================] - 13s 7ms/step - loss: 0.1472 - accuracy: 0.9470\n",
            "Epoch 6/25\n",
            "1875/1875 [==============================] - 13s 7ms/step - loss: 0.1215 - accuracy: 0.9566\n",
            "Epoch 7/25\n",
            "1875/1875 [==============================] - 13s 7ms/step - loss: 0.0987 - accuracy: 0.9645\n",
            "Epoch 8/25\n",
            "1875/1875 [==============================] - 13s 7ms/step - loss: 0.0736 - accuracy: 0.9731\n",
            "Epoch 9/25\n",
            "1875/1875 [==============================] - 13s 7ms/step - loss: 0.0599 - accuracy: 0.9795\n",
            "Epoch 10/25\n",
            "1875/1875 [==============================] - 13s 7ms/step - loss: 0.0463 - accuracy: 0.9835\n",
            "Epoch 11/25\n",
            "1875/1875 [==============================] - 13s 7ms/step - loss: 0.0356 - accuracy: 0.9883\n",
            "Epoch 12/25\n",
            "1875/1875 [==============================] - 13s 7ms/step - loss: 0.0278 - accuracy: 0.9910\n",
            "Epoch 13/25\n",
            "1875/1875 [==============================] - 13s 7ms/step - loss: 0.0190 - accuracy: 0.9936\n",
            "Epoch 14/25\n",
            "1875/1875 [==============================] - 13s 7ms/step - loss: 0.0173 - accuracy: 0.9945\n",
            "Epoch 15/25\n",
            "1875/1875 [==============================] - 13s 7ms/step - loss: 0.0132 - accuracy: 0.9959\n",
            "Epoch 16/25\n",
            "1875/1875 [==============================] - 13s 7ms/step - loss: 0.0129 - accuracy: 0.9953\n",
            "Epoch 17/25\n",
            "1875/1875 [==============================] - 13s 7ms/step - loss: 0.0094 - accuracy: 0.9971\n",
            "Epoch 18/25\n",
            "1875/1875 [==============================] - 13s 7ms/step - loss: 0.0093 - accuracy: 0.9968\n",
            "Epoch 19/25\n",
            "1875/1875 [==============================] - 13s 7ms/step - loss: 0.0078 - accuracy: 0.9976\n",
            "Epoch 20/25\n",
            "1875/1875 [==============================] - 13s 7ms/step - loss: 0.0070 - accuracy: 0.9977\n",
            "Epoch 21/25\n",
            "1875/1875 [==============================] - 13s 7ms/step - loss: 0.0094 - accuracy: 0.9970\n",
            "Epoch 22/25\n",
            "1875/1875 [==============================] - 13s 7ms/step - loss: 0.0065 - accuracy: 0.9978\n",
            "Epoch 23/25\n",
            "1875/1875 [==============================] - 13s 7ms/step - loss: 0.0080 - accuracy: 0.9973\n",
            "Epoch 24/25\n",
            "1875/1875 [==============================] - 13s 7ms/step - loss: 0.0084 - accuracy: 0.9967\n",
            "Epoch 25/25\n",
            "1875/1875 [==============================] - 13s 7ms/step - loss: 0.0070 - accuracy: 0.9978\n",
            "\n",
            "Model 1B testing information\n",
            "\n",
            "\n",
            "Training took  329.58 seconds\n",
            "\n",
            "\n",
            "Testing statistics\n",
            "\n",
            "313/313 - 1s - loss: 0.4776 - accuracy: 0.9264\n"
          ],
          "name": "stdout"
        },
        {
          "output_type": "display_data",
          "data": {
            "image/png": "[encoded data removed]",
            "text/plain": [
              "<Figure size 432x288 with 2 Axes>"
            ]
          },
          "metadata": {
            "tags": [],
            "needs_background": "light"
          }
        }
      ]
    },
    {
      "cell_type": "markdown",
      "metadata": {
        "id": "saAP6dZ-H1At"
      },
      "source": [
        "## **Part 2 - Dropout Layers**\n",
        "\n",
        "In part 2, we will be examining the effect of dropout layers on the performance of the model. Copy your code from the ```build_model_1B()``` method into the ```build_model_2()``` method, and then add dropout layers after each max pooling layer. Model 2 architecture should be:\n",
        "\n",
        "```\n",
        "Conv2D\n",
        "Conv2D\n",
        "MaxPooling2D((2,2))\n",
        "Dropout(0.5) <- Add this\n",
        "Conv2D\n",
        "Conv2D\n",
        "MaxPooling2D((2,2))\n",
        "Dropout(0.5) <- Add this\n",
        "Flatten\n",
        "Dense(1024 nodes)\n",
        "Dense(num_classes, softmax)\n",
        "```\n",
        "\n",
        "Note that the we are passing ```0.5``` as an argument to the dropout layers. This means that 50% of the connection between the max pooling and next layer will be dropped.\n",
        "\n",
        "*Documentation on dropout layers can be found here*: https://keras.io/api/layers/regularization_layers/dropout/"
      ]
    },
    {
      "cell_type": "markdown",
      "metadata": {
        "id": "LnS9xxNUJrln"
      },
      "source": [
        "### ***TODO*** Model 2"
      ]
    },
    {
      "cell_type": "code",
      "metadata": {
        "id": "3IkD65YIJzSw"
      },
      "source": [
        "def build_model_2():\n",
        "    return tf.keras.Sequential(\n",
        "      [layers.Conv2D( # <-- Input layer\n",
        "            filters=64,\n",
        "            kernel_size=(3, 3),\n",
        "            activation=\"relu\",\n",
        "            padding=\"same\",\n",
        "            input_shape=data_shape,\n",
        "        ),\n",
        "        layers.Conv2D(\n",
        "            filters=64,\n",
        "            kernel_size=(3, 3),\n",
        "            activation=\"relu\",\n",
        "            padding=\"same\",\n",
        "        ),\n",
        "        layers.MaxPooling2D(\n",
        "            pool_size=(2,2),\n",
        "        ),\n",
        "        layers.Dropout(\n",
        "            rate=0.5\n",
        "        ),\n",
        "        layers.Conv2D(\n",
        "            filters=128,\n",
        "            kernel_size=(3, 3),\n",
        "            activation=\"relu\",\n",
        "            padding=\"same\",\n",
        "        ),\n",
        "        layers.Conv2D(\n",
        "            filters=128,\n",
        "            kernel_size=(3, 3),\n",
        "            activation=\"relu\",\n",
        "            padding=\"same\",\n",
        "        ),\n",
        "        layers.MaxPooling2D(\n",
        "            pool_size=(2,2),\n",
        "        ),\n",
        "        layers.Dropout(\n",
        "            rate=0.5\n",
        "        ),\n",
        "        layers.Flatten(),\n",
        "        layers.Dense(\n",
        "            units=1024,\n",
        "            activation=\"relu\",\n",
        "        ),\n",
        "        layers.Dense(num_classes, activation=\"softmax\")] # <-- Output layer\n",
        "  )"
      ],
      "execution_count": 9,
      "outputs": []
    },
    {
      "cell_type": "markdown",
      "metadata": {
        "id": "LgsXrqokKge-"
      },
      "source": [
        "### Model Compilation and Summaries\n"
      ]
    },
    {
      "cell_type": "code",
      "metadata": {
        "id": "AV_0oi2vKge_",
        "colab": {
          "base_uri": "https://localhost:8080/"
        },
        "outputId": "8ce186b3-9990-435d-c40d-18dffa7b93d4"
      },
      "source": [
        "tf.keras.backend.clear_session() # clear previously compiled models\n",
        "\n",
        "optimizer = optimizers.Adam(lr = LEARNING_RATE) # set optimizer\n",
        "\n",
        "# get network\n",
        "model_2 = build_model_2() \n",
        "\n",
        "# compile network\n",
        "model_2.compile(\n",
        "    optimizer=optimizer,\n",
        "    loss=tf.keras.losses.SparseCategoricalCrossentropy(from_logits=True),\n",
        "    metrics=[\"accuracy\"],\n",
        ")\n",
        "\n",
        "# print summary\n",
        "\n",
        "print(\"\\nModel 2 Architecture\\n\")\n",
        "model_2.summary()\n",
        "\n"
      ],
      "execution_count": 16,
      "outputs": [
        {
          "output_type": "stream",
          "text": [
            "\n",
            "Model 2 Architecture\n",
            "\n",
            "Model: \"sequential\"\n",
            "_________________________________________________________________\n",
            "Layer (type)                 Output Shape              Param #   \n",
            "=================================================================\n",
            "conv2d (Conv2D)              (None, 28, 28, 64)        640       \n",
            "_________________________________________________________________\n",
            "conv2d_1 (Conv2D)            (None, 28, 28, 64)        36928     \n",
            "_________________________________________________________________\n",
            "max_pooling2d (MaxPooling2D) (None, 14, 14, 64)        0         \n",
            "_________________________________________________________________\n",
            "dropout (Dropout)            (None, 14, 14, 64)        0         \n",
            "_________________________________________________________________\n",
            "conv2d_2 (Conv2D)            (None, 14, 14, 128)       73856     \n",
            "_________________________________________________________________\n",
            "conv2d_3 (Conv2D)            (None, 14, 14, 128)       147584    \n",
            "_________________________________________________________________\n",
            "max_pooling2d_1 (MaxPooling2 (None, 7, 7, 128)         0         \n",
            "_________________________________________________________________\n",
            "dropout_1 (Dropout)          (None, 7, 7, 128)         0         \n",
            "_________________________________________________________________\n",
            "flatten (Flatten)            (None, 6272)              0         \n",
            "_________________________________________________________________\n",
            "dense (Dense)                (None, 1024)              6423552   \n",
            "_________________________________________________________________\n",
            "dense_1 (Dense)              (None, 10)                10250     \n",
            "=================================================================\n",
            "Total params: 6,692,810\n",
            "Trainable params: 6,692,810\n",
            "Non-trainable params: 0\n",
            "_________________________________________________________________\n"
          ],
          "name": "stdout"
        }
      ]
    },
    {
      "cell_type": "markdown",
      "metadata": {
        "id": "3s5mSscjYLJH"
      },
      "source": [
        "### **TODO** Global Hyperparameters\n",
        "\n",
        "Dropout layers, while capable of making the model more robust, also require more training. You should again increase the number of epochs to find a point of diminishing returns."
      ]
    },
    {
      "cell_type": "code",
      "metadata": {
        "id": "U5J5d92TYLJJ"
      },
      "source": [
        "EPOCHS = 25"
      ],
      "execution_count": 19,
      "outputs": []
    },
    {
      "cell_type": "markdown",
      "metadata": {
        "id": "Yk8Qz2T1Ku1M"
      },
      "source": [
        "### Testing Model 2\n",
        "\n",
        "When looking at your results, pay attention to the difference between the training and test accuracy of Model 1B to the difference of the two accuracies in Model 2."
      ]
    },
    {
      "cell_type": "code",
      "metadata": {
        "id": "hCKGZ652K40G",
        "colab": {
          "base_uri": "https://localhost:8080/",
          "height": 1000
        },
        "outputId": "4f62072c-d692-4170-e76b-f876a76bbb92"
      },
      "source": [
        "tf.keras.backend.clear_session() # clear previously compiled models\n",
        "\n",
        "optimizer = optimizers.Adam(lr = LEARNING_RATE) # set optimizer\n",
        "\n",
        "# get network\n",
        "model_2 = build_model_2() \n",
        "\n",
        "\n",
        "\n",
        "# compile network\n",
        "model_2.compile(\n",
        "    optimizer=optimizer,\n",
        "    loss=tf.keras.losses.SparseCategoricalCrossentropy(from_logits=True),\n",
        "    metrics=[\"accuracy\"],\n",
        ")\n",
        "\n",
        "perf_and_test(model_2, \"Model 2\")"
      ],
      "execution_count": 18,
      "outputs": [
        {
          "output_type": "stream",
          "text": [
            "Epoch 1/25\n",
            "1875/1875 [==============================] - 13s 7ms/step - loss: 0.7819 - accuracy: 0.7114\n",
            "Epoch 2/25\n",
            "1875/1875 [==============================] - 13s 7ms/step - loss: 0.3831 - accuracy: 0.8656\n",
            "Epoch 3/25\n",
            "1875/1875 [==============================] - 13s 7ms/step - loss: 0.3123 - accuracy: 0.8855\n",
            "Epoch 4/25\n",
            "1875/1875 [==============================] - 13s 7ms/step - loss: 0.2690 - accuracy: 0.8992\n",
            "Epoch 5/25\n",
            "1875/1875 [==============================] - 13s 7ms/step - loss: 0.2410 - accuracy: 0.9131\n",
            "Epoch 6/25\n",
            "1875/1875 [==============================] - 13s 7ms/step - loss: 0.2197 - accuracy: 0.9202\n",
            "Epoch 7/25\n",
            "1875/1875 [==============================] - 13s 7ms/step - loss: 0.2036 - accuracy: 0.9238\n",
            "Epoch 8/25\n",
            "1875/1875 [==============================] - 13s 7ms/step - loss: 0.1913 - accuracy: 0.9277\n",
            "Epoch 9/25\n",
            "1875/1875 [==============================] - 13s 7ms/step - loss: 0.1769 - accuracy: 0.9355\n",
            "Epoch 10/25\n",
            "1875/1875 [==============================] - 13s 7ms/step - loss: 0.1685 - accuracy: 0.9375\n",
            "Epoch 11/25\n",
            "1875/1875 [==============================] - 13s 7ms/step - loss: 0.1569 - accuracy: 0.9414\n",
            "Epoch 12/25\n",
            "1875/1875 [==============================] - 13s 7ms/step - loss: 0.1445 - accuracy: 0.9479\n",
            "Epoch 13/25\n",
            "1875/1875 [==============================] - 14s 7ms/step - loss: 0.1373 - accuracy: 0.9493\n",
            "Epoch 14/25\n",
            "1875/1875 [==============================] - 13s 7ms/step - loss: 0.1310 - accuracy: 0.9516\n",
            "Epoch 15/25\n",
            "1875/1875 [==============================] - 13s 7ms/step - loss: 0.1175 - accuracy: 0.9562\n",
            "Epoch 16/25\n",
            "1875/1875 [==============================] - 14s 7ms/step - loss: 0.1059 - accuracy: 0.9604\n",
            "Epoch 17/25\n",
            "1875/1875 [==============================] - 14s 7ms/step - loss: 0.1066 - accuracy: 0.9596\n",
            "Epoch 18/25\n",
            "1875/1875 [==============================] - 13s 7ms/step - loss: 0.0927 - accuracy: 0.9653\n",
            "Epoch 19/25\n",
            "1875/1875 [==============================] - 13s 7ms/step - loss: 0.0895 - accuracy: 0.9676\n",
            "Epoch 20/25\n",
            "1875/1875 [==============================] - 13s 7ms/step - loss: 0.0840 - accuracy: 0.9696\n",
            "Epoch 21/25\n",
            "1875/1875 [==============================] - 13s 7ms/step - loss: 0.0754 - accuracy: 0.9714\n",
            "Epoch 22/25\n",
            "1875/1875 [==============================] - 14s 7ms/step - loss: 0.0699 - accuracy: 0.9748\n",
            "Epoch 23/25\n",
            "1875/1875 [==============================] - 14s 7ms/step - loss: 0.0642 - accuracy: 0.9754\n",
            "Epoch 24/25\n",
            "1875/1875 [==============================] - 14s 7ms/step - loss: 0.0608 - accuracy: 0.9776\n",
            "Epoch 25/25\n",
            "1875/1875 [==============================] - 13s 7ms/step - loss: 0.0550 - accuracy: 0.9796\n",
            "\n",
            "Model 2 testing information\n",
            "\n",
            "\n",
            "Training took  335.52 seconds\n",
            "\n",
            "\n",
            "Testing statistics\n",
            "\n",
            "313/313 - 1s - loss: 0.2288 - accuracy: 0.9378\n"
          ],
          "name": "stdout"
        },
        {
          "output_type": "display_data",
          "data": {
            "image/png": "[encoded data removed]",
            "text/plain": [
              "<Figure size 432x288 with 2 Axes>"
            ]
          },
          "metadata": {
            "tags": [],
            "needs_background": "light"
          }
        }
      ]
    },
    {
      "cell_type": "markdown",
      "metadata": {
        "id": "djGQRfobLJr3"
      },
      "source": [
        "## **Part 3 - Batch Normalization**\n",
        "\n",
        "In part 3, we will be examining the effect of batch normalization layers on the performance of the model. Copy your code from the ```build_model_1B()``` method into the ```build_model_3()``` method, and then add batch normalization layers after each Conv2D layer. The Model 3 architecture should be:\n",
        "\n",
        "```\n",
        "Conv2D\n",
        "BatchNormalization\n",
        "Conv2D\n",
        "BatchNormalization\n",
        "MaxPooling2D((2,2))\n",
        "Conv2D\n",
        "BatchNormalization\n",
        "Conv2D\n",
        "BatchNormalization\n",
        "MaxPooling2D((2,2))\n",
        "Flatten\n",
        "Dense(1024 nodes)\n",
        "Dense(num_classes, softmax)\n",
        "```\n",
        " BatchNormalization layers requires no parameters. \n",
        " \n",
        " *Documentation can be found here*: https://keras.io/api/layers/normalization_layers/batch_normalization/"
      ]
    },
    {
      "cell_type": "markdown",
      "metadata": {
        "id": "4bnDQSWzNLB2"
      },
      "source": [
        "### ***TODO*** Model 3"
      ]
    },
    {
      "cell_type": "code",
      "metadata": {
        "id": "B0Ij7PNUNLB3"
      },
      "source": [
        "def build_model_3():\n",
        "  return tf.keras.Sequential(\n",
        "      [layers.Conv2D( # <-- Input layer\n",
        "            filters=64,\n",
        "            kernel_size=(3, 3),\n",
        "            activation=\"relu\",\n",
        "            padding=\"same\",\n",
        "            input_shape=data_shape,\n",
        "        ),\n",
        "        layers.BatchNormalization(),\n",
        "        layers.Conv2D(\n",
        "            filters=64,\n",
        "            kernel_size=(3, 3),\n",
        "            activation=\"relu\",\n",
        "            padding=\"same\",\n",
        "        ),\n",
        "        layers.BatchNormalization(),\n",
        "        layers.MaxPooling2D(\n",
        "            pool_size=(2,2),\n",
        "        ),\n",
        "        layers.Conv2D(\n",
        "            filters=128,\n",
        "            kernel_size=(3, 3),\n",
        "            activation=\"relu\",\n",
        "            padding=\"same\",\n",
        "        ),\n",
        "        layers.BatchNormalization(),\n",
        "        layers.Conv2D(\n",
        "            filters=128,\n",
        "            kernel_size=(3, 3),\n",
        "            activation=\"relu\",\n",
        "            padding=\"same\",\n",
        "        ),\n",
        "        layers.BatchNormalization(),\n",
        "        layers.MaxPooling2D(\n",
        "            pool_size=(2,2),\n",
        "        ),\n",
        "        layers.Flatten(),\n",
        "        layers.Dense(\n",
        "            units=1024,\n",
        "            activation=\"relu\",\n",
        "        ),\n",
        "        layers.Dense(num_classes, activation=\"softmax\")] # <-- Output layer\n",
        "  )"
      ],
      "execution_count": 10,
      "outputs": []
    },
    {
      "cell_type": "markdown",
      "metadata": {
        "id": "GQ44IbO8NoSq"
      },
      "source": [
        "### Model Compilation and Summary\n",
        "\n"
      ]
    },
    {
      "cell_type": "code",
      "metadata": {
        "id": "21X2FgQYNoSs",
        "colab": {
          "base_uri": "https://localhost:8080/"
        },
        "outputId": "60e7718b-72a1-4da1-ff65-73ee87c08d7e"
      },
      "source": [
        "tf.keras.backend.clear_session() # clear previously compiled models\n",
        "\n",
        "optimizer = optimizers.Adam(lr = LEARNING_RATE) # set optimizer\n",
        "\n",
        "# get network\n",
        "model_3 = build_model_3() \n",
        "\n",
        "\n",
        "# compile network\n",
        "model_3.compile(\n",
        "    optimizer=optimizer,\n",
        "    loss=tf.keras.losses.SparseCategoricalCrossentropy(from_logits=True),\n",
        "    metrics=[\"accuracy\"],\n",
        ")\n",
        "\n",
        "# print summary\n",
        "\n",
        "print(\"\\nModel 3 Architecture\\n\")\n",
        "model_3.summary()\n",
        "\n"
      ],
      "execution_count": 11,
      "outputs": [
        {
          "output_type": "stream",
          "text": [
            "\n",
            "Model 3 Architecture\n",
            "\n",
            "Model: \"sequential\"\n",
            "_________________________________________________________________\n",
            "Layer (type)                 Output Shape              Param #   \n",
            "=================================================================\n",
            "conv2d (Conv2D)              (None, 28, 28, 64)        640       \n",
            "_________________________________________________________________\n",
            "batch_normalization (BatchNo (None, 28, 28, 64)        256       \n",
            "_________________________________________________________________\n",
            "conv2d_1 (Conv2D)            (None, 28, 28, 64)        36928     \n",
            "_________________________________________________________________\n",
            "batch_normalization_1 (Batch (None, 28, 28, 64)        256       \n",
            "_________________________________________________________________\n",
            "max_pooling2d (MaxPooling2D) (None, 14, 14, 64)        0         \n",
            "_________________________________________________________________\n",
            "conv2d_2 (Conv2D)            (None, 14, 14, 128)       73856     \n",
            "_________________________________________________________________\n",
            "batch_normalization_2 (Batch (None, 14, 14, 128)       512       \n",
            "_________________________________________________________________\n",
            "conv2d_3 (Conv2D)            (None, 14, 14, 128)       147584    \n",
            "_________________________________________________________________\n",
            "batch_normalization_3 (Batch (None, 14, 14, 128)       512       \n",
            "_________________________________________________________________\n",
            "max_pooling2d_1 (MaxPooling2 (None, 7, 7, 128)         0         \n",
            "_________________________________________________________________\n",
            "flatten (Flatten)            (None, 6272)              0         \n",
            "_________________________________________________________________\n",
            "dense (Dense)                (None, 1024)              6423552   \n",
            "_________________________________________________________________\n",
            "dense_1 (Dense)              (None, 10)                10250     \n",
            "=================================================================\n",
            "Total params: 6,694,346\n",
            "Trainable params: 6,693,578\n",
            "Non-trainable params: 768\n",
            "_________________________________________________________________\n"
          ],
          "name": "stdout"
        }
      ]
    },
    {
      "cell_type": "markdown",
      "metadata": {
        "id": "W40rVSoeZAlt"
      },
      "source": [
        "### ***TODO*** Global Hyperparameters\n",
        " \n",
        " Batch normalization has been shown to improve convergence in neural networks, and so the number of training epochs required may be lower than in the other architectures. Again refer to the initial loss plot to find the point of diminishing returns and update the ```EPOCHS``` variable."
      ]
    },
    {
      "cell_type": "code",
      "metadata": {
        "id": "dUivow6MZAlv"
      },
      "source": [
        "EPOCHS = 25"
      ],
      "execution_count": 12,
      "outputs": []
    },
    {
      "cell_type": "markdown",
      "metadata": {
        "id": "V8ZBMiSlNoSu"
      },
      "source": [
        "### Testing Model 3\n"
      ]
    },
    {
      "cell_type": "code",
      "metadata": {
        "id": "AR_FDdEMNoSv",
        "colab": {
          "base_uri": "https://localhost:8080/",
          "height": 1000
        },
        "outputId": "204d08f4-dba2-4797-b5a7-9617853f241b"
      },
      "source": [
        "tf.keras.backend.clear_session() # clear previously compiled models\n",
        "\n",
        "optimizer = optimizers.Adam(lr = LEARNING_RATE) # set optimizer\n",
        "\n",
        "# get network\n",
        "model_3 = build_model_3() \n",
        "\n",
        "\n",
        "\n",
        "# compile network\n",
        "model_3.compile(\n",
        "    optimizer=optimizer,\n",
        "    loss=tf.keras.losses.SparseCategoricalCrossentropy(from_logits=True),\n",
        "    metrics=[\"accuracy\"],\n",
        ")\n",
        "\n",
        "perf_and_test(model_3, \"Model 3\")"
      ],
      "execution_count": 13,
      "outputs": [
        {
          "output_type": "stream",
          "text": [
            "Epoch 1/25\n",
            "1875/1875 [==============================] - 47s 8ms/step - loss: 0.5016 - accuracy: 0.8370\n",
            "Epoch 2/25\n",
            "1875/1875 [==============================] - 14s 8ms/step - loss: 0.2133 - accuracy: 0.9222\n",
            "Epoch 3/25\n",
            "1875/1875 [==============================] - 14s 8ms/step - loss: 0.1614 - accuracy: 0.9404\n",
            "Epoch 4/25\n",
            "1875/1875 [==============================] - 14s 8ms/step - loss: 0.1172 - accuracy: 0.9559\n",
            "Epoch 5/25\n",
            "1875/1875 [==============================] - 14s 8ms/step - loss: 0.0830 - accuracy: 0.9700\n",
            "Epoch 6/25\n",
            "1875/1875 [==============================] - 14s 8ms/step - loss: 0.0561 - accuracy: 0.9793\n",
            "Epoch 7/25\n",
            "1875/1875 [==============================] - 14s 8ms/step - loss: 0.0415 - accuracy: 0.9846\n",
            "Epoch 8/25\n",
            "1875/1875 [==============================] - 14s 8ms/step - loss: 0.0330 - accuracy: 0.9886\n",
            "Epoch 9/25\n",
            "1875/1875 [==============================] - 14s 8ms/step - loss: 0.0252 - accuracy: 0.9912\n",
            "Epoch 10/25\n",
            "1875/1875 [==============================] - 14s 8ms/step - loss: 0.0194 - accuracy: 0.9934\n",
            "Epoch 11/25\n",
            "1875/1875 [==============================] - 14s 8ms/step - loss: 0.0163 - accuracy: 0.9945\n",
            "Epoch 12/25\n",
            "1875/1875 [==============================] - 14s 8ms/step - loss: 0.0184 - accuracy: 0.9935\n",
            "Epoch 13/25\n",
            "1875/1875 [==============================] - 15s 8ms/step - loss: 0.0144 - accuracy: 0.9946\n",
            "Epoch 14/25\n",
            "1875/1875 [==============================] - 14s 8ms/step - loss: 0.0142 - accuracy: 0.9951\n",
            "Epoch 15/25\n",
            "1875/1875 [==============================] - 14s 8ms/step - loss: 0.0142 - accuracy: 0.9950\n",
            "Epoch 16/25\n",
            "1875/1875 [==============================] - 14s 8ms/step - loss: 0.0119 - accuracy: 0.9959\n",
            "Epoch 17/25\n",
            "1875/1875 [==============================] - 15s 8ms/step - loss: 0.0105 - accuracy: 0.9969\n",
            "Epoch 18/25\n",
            "1875/1875 [==============================] - 14s 8ms/step - loss: 0.0111 - accuracy: 0.9967\n",
            "Epoch 19/25\n",
            "1875/1875 [==============================] - 15s 8ms/step - loss: 0.0126 - accuracy: 0.9957\n",
            "Epoch 20/25\n",
            "1875/1875 [==============================] - 14s 8ms/step - loss: 0.0098 - accuracy: 0.9964\n",
            "Epoch 21/25\n",
            "1875/1875 [==============================] - 14s 8ms/step - loss: 0.0080 - accuracy: 0.9970\n",
            "Epoch 22/25\n",
            "1875/1875 [==============================] - 14s 8ms/step - loss: 0.0065 - accuracy: 0.9979\n",
            "Epoch 23/25\n",
            "1875/1875 [==============================] - 15s 8ms/step - loss: 0.0095 - accuracy: 0.9968\n",
            "Epoch 24/25\n",
            "1875/1875 [==============================] - 15s 8ms/step - loss: 0.0074 - accuracy: 0.9975\n",
            "Epoch 25/25\n",
            "1875/1875 [==============================] - 14s 8ms/step - loss: 0.0083 - accuracy: 0.9973\n",
            "\n",
            "Model 3 testing information\n",
            "\n",
            "\n",
            "Training took  393.94 seconds\n",
            "\n",
            "\n",
            "Testing statistics\n",
            "\n",
            "313/313 - 1s - loss: 0.4851 - accuracy: 0.9249\n"
          ],
          "name": "stdout"
        },
        {
          "output_type": "display_data",
          "data": {
            "image/png": "[encoded data removed]",
            "text/plain": [
              "<Figure size 432x288 with 2 Axes>"
            ]
          },
          "metadata": {
            "tags": [],
            "needs_background": "light"
          }
        }
      ]
    },
    {
      "cell_type": "markdown",
      "metadata": {
        "id": "6pI2YZw9OCmI"
      },
      "source": [
        "## **Part 4 - Layer count**\n",
        "\n",
        "In the final part of this project, you will be looking out how the number of layers affect performance and training time.\n",
        "\n",
        "In ```build_model_4```, you need to implement the following architecture:\n",
        "\n",
        "```python\n",
        "# block 1 - 64 filters per Conv2D\n",
        "conv2D \n",
        "BatchNormaliztion\n",
        "conv2D\n",
        "BatchNormalization\n",
        "conv2D\n",
        "BatchNormalization\n",
        "MaxPooling2D\n",
        "Dropout(0.5)\n",
        "#block 2 - 128 filters per Conv2D\n",
        "conv2D \n",
        "BatchNormaliztion\n",
        "conv2D\n",
        "BatchNormalization\n",
        "conv2D\n",
        "BatchNormalization\n",
        "MaxPooling2D\n",
        "Dropout(0.5)\n",
        "#block 3 - 256 filters per Conv2D\n",
        "conv2D \n",
        "BatchNormaliztion\n",
        "conv2D\n",
        "BatchNormalization\n",
        "conv2D\n",
        "BatchNormalization\n",
        "MaxPooling2D\n",
        "Dropout(0.5)\n",
        "# Dense layers\n",
        "Flatten\n",
        "Dense(1024)\n",
        "Dense(512)\n",
        "Dense(num_classes, softmax)\n",
        "```\n",
        "\n",
        "Notice each block consists of 3 conv2d layers, with 3 batch normalization layers, a maxpooling and dropout layer. The first block should have 64 filters for each Conv2d layer, the second should have 128 filters, and the third should have 256. Also, we are adding an additional dense layer with 512 nodes to the model architecture."
      ]
    },
    {
      "cell_type": "markdown",
      "metadata": {
        "id": "wJh472usZ9S-"
      },
      "source": [
        "### ***TODO*** Model 4"
      ]
    },
    {
      "cell_type": "code",
      "metadata": {
        "id": "FmzGoD9waJ8r"
      },
      "source": [
        "def build_model_4():\n",
        "  return tf.keras.Sequential(\n",
        "      [layers.Conv2D( # <-- Input layer\n",
        "            filters=64,\n",
        "            kernel_size=(3, 3),\n",
        "            activation=\"relu\",\n",
        "            padding=\"same\",\n",
        "            input_shape=data_shape,\n",
        "        ),\n",
        "        layers.BatchNormalization(),\n",
        "        layers.Conv2D(\n",
        "            filters=64,\n",
        "            kernel_size=(3, 3),\n",
        "            activation=\"relu\",\n",
        "            padding=\"same\",\n",
        "        ),\n",
        "        layers.BatchNormalization(),\n",
        "        layers.Conv2D(\n",
        "            filters=64,\n",
        "            kernel_size=(3, 3),\n",
        "            activation=\"relu\",\n",
        "            padding=\"same\",\n",
        "        ),\n",
        "        layers.BatchNormalization(),\n",
        "        layers.MaxPooling2D((2,2)),\n",
        "        layers.Dropout(0.5),\n",
        "        layers.Conv2D(\n",
        "            filters=128,\n",
        "            kernel_size=(3, 3),\n",
        "            activation=\"relu\",\n",
        "            padding=\"same\",\n",
        "        ),\n",
        "        layers.BatchNormalization(),\n",
        "        layers.Conv2D(\n",
        "            filters=128,\n",
        "            kernel_size=(3, 3),\n",
        "            activation=\"relu\",\n",
        "            padding=\"same\",\n",
        "        ),\n",
        "        layers.BatchNormalization(),\n",
        "        layers.Conv2D(\n",
        "            filters=128,\n",
        "            kernel_size=(3, 3),\n",
        "            activation=\"relu\",\n",
        "            padding=\"same\",\n",
        "        ),\n",
        "        layers.BatchNormalization(),\n",
        "        layers.MaxPooling2D((2,2)),\n",
        "        layers.Dropout(0.5),\n",
        "        layers.Conv2D(\n",
        "            filters=256,\n",
        "            kernel_size=(3, 3),\n",
        "            activation=\"relu\",\n",
        "            padding=\"same\",\n",
        "        ),\n",
        "        layers.BatchNormalization(),\n",
        "        layers.Conv2D(\n",
        "            filters=256,\n",
        "            kernel_size=(3, 3),\n",
        "            activation=\"relu\",\n",
        "            padding=\"same\",\n",
        "        ),\n",
        "        layers.BatchNormalization(),\n",
        "        layers.Conv2D(\n",
        "            filters=256,\n",
        "            kernel_size=(3, 3),\n",
        "            activation=\"relu\",\n",
        "            padding=\"same\",\n",
        "        ),\n",
        "        layers.BatchNormalization(),\n",
        "        layers.MaxPooling2D((2,2)),\n",
        "        layers.Dropout(0.5),\n",
        "        layers.Flatten(),\n",
        "        layers.Dense(\n",
        "            units=1024,\n",
        "            activation=\"relu\",\n",
        "        ),\n",
        "        layers.Dense(\n",
        "            units=512,\n",
        "            activation=\"relu\",\n",
        "        ),\n",
        "        layers.Dense(num_classes, activation=\"softmax\")] # <-- Output layer\n",
        "  )"
      ],
      "execution_count": 16,
      "outputs": []
    },
    {
      "cell_type": "markdown",
      "metadata": {
        "id": "B51tFQkVZ44z"
      },
      "source": [
        "### ***TODO*** Global Hyperparameters\n",
        "\n",
        "Larger models generally require more training as there are more parameters, so you may need to increase the number of training epochs for this model. In addition, more complicated architectures and problem domains can benefit from lower learning rates. Experiment with the learning rate to see if you notice any improvements. Keep in mind that decreasing the learning rate increases the training time, and to fully train your model you may need to increase the number of epochs as well. "
      ]
    },
    {
      "cell_type": "code",
      "metadata": {
        "id": "2E9CXtcDZ440"
      },
      "source": [
        "EPOCHS = 25\n",
        "LEARNING_RATE = 0.0001"
      ],
      "execution_count": 17,
      "outputs": []
    },
    {
      "cell_type": "markdown",
      "metadata": {
        "id": "EDJ9q7AmcVFA"
      },
      "source": [
        "### Model Compilation and Summary\n",
        "\n"
      ]
    },
    {
      "cell_type": "code",
      "metadata": {
        "id": "JC5sRDlocVFB",
        "colab": {
          "base_uri": "https://localhost:8080/"
        },
        "outputId": "211fd0b1-8028-4ff0-a2a6-62a024a093fe"
      },
      "source": [
        "tf.keras.backend.clear_session() # clear previously compiled models\n",
        "\n",
        "optimizer = optimizers.Adam(lr = LEARNING_RATE) # set optimizer\n",
        "\n",
        "# get network\n",
        "model_4 = build_model_4() \n",
        "\n",
        "\n",
        "# compile network\n",
        "model_4.compile(\n",
        "    optimizer=optimizer,\n",
        "    loss=tf.keras.losses.SparseCategoricalCrossentropy(from_logits=True),\n",
        "    metrics=[\"accuracy\"],\n",
        ")\n",
        "\n",
        "# print summary\n",
        "\n",
        "print(\"\\nModel 4 Architecture\\n\")\n",
        "model_4.summary()\n",
        "\n"
      ],
      "execution_count": 18,
      "outputs": [
        {
          "output_type": "stream",
          "text": [
            "\n",
            "Model 4 Architecture\n",
            "\n",
            "Model: \"sequential\"\n",
            "_________________________________________________________________\n",
            "Layer (type)                 Output Shape              Param #   \n",
            "=================================================================\n",
            "conv2d (Conv2D)              (None, 28, 28, 64)        640       \n",
            "_________________________________________________________________\n",
            "batch_normalization (BatchNo (None, 28, 28, 64)        256       \n",
            "_________________________________________________________________\n",
            "conv2d_1 (Conv2D)            (None, 28, 28, 64)        36928     \n",
            "_________________________________________________________________\n",
            "batch_normalization_1 (Batch (None, 28, 28, 64)        256       \n",
            "_________________________________________________________________\n",
            "conv2d_2 (Conv2D)            (None, 28, 28, 64)        36928     \n",
            "_________________________________________________________________\n",
            "batch_normalization_2 (Batch (None, 28, 28, 64)        256       \n",
            "_________________________________________________________________\n",
            "max_pooling2d (MaxPooling2D) (None, 14, 14, 64)        0         \n",
            "_________________________________________________________________\n",
            "dropout (Dropout)            (None, 14, 14, 64)        0         \n",
            "_________________________________________________________________\n",
            "conv2d_3 (Conv2D)            (None, 14, 14, 128)       73856     \n",
            "_________________________________________________________________\n",
            "batch_normalization_3 (Batch (None, 14, 14, 128)       512       \n",
            "_________________________________________________________________\n",
            "conv2d_4 (Conv2D)            (None, 14, 14, 128)       147584    \n",
            "_________________________________________________________________\n",
            "batch_normalization_4 (Batch (None, 14, 14, 128)       512       \n",
            "_________________________________________________________________\n",
            "conv2d_5 (Conv2D)            (None, 14, 14, 128)       147584    \n",
            "_________________________________________________________________\n",
            "batch_normalization_5 (Batch (None, 14, 14, 128)       512       \n",
            "_________________________________________________________________\n",
            "max_pooling2d_1 (MaxPooling2 (None, 7, 7, 128)         0         \n",
            "_________________________________________________________________\n",
            "dropout_1 (Dropout)          (None, 7, 7, 128)         0         \n",
            "_________________________________________________________________\n",
            "conv2d_6 (Conv2D)            (None, 7, 7, 256)         295168    \n",
            "_________________________________________________________________\n",
            "batch_normalization_6 (Batch (None, 7, 7, 256)         1024      \n",
            "_________________________________________________________________\n",
            "conv2d_7 (Conv2D)            (None, 7, 7, 256)         590080    \n",
            "_________________________________________________________________\n",
            "batch_normalization_7 (Batch (None, 7, 7, 256)         1024      \n",
            "_________________________________________________________________\n",
            "conv2d_8 (Conv2D)            (None, 7, 7, 256)         590080    \n",
            "_________________________________________________________________\n",
            "batch_normalization_8 (Batch (None, 7, 7, 256)         1024      \n",
            "_________________________________________________________________\n",
            "max_pooling2d_2 (MaxPooling2 (None, 3, 3, 256)         0         \n",
            "_________________________________________________________________\n",
            "dropout_2 (Dropout)          (None, 3, 3, 256)         0         \n",
            "_________________________________________________________________\n",
            "flatten (Flatten)            (None, 2304)              0         \n",
            "_________________________________________________________________\n",
            "dense (Dense)                (None, 1024)              2360320   \n",
            "_________________________________________________________________\n",
            "dense_1 (Dense)              (None, 512)               524800    \n",
            "_________________________________________________________________\n",
            "dense_2 (Dense)              (None, 10)                5130      \n",
            "=================================================================\n",
            "Total params: 4,814,474\n",
            "Trainable params: 4,811,786\n",
            "Non-trainable params: 2,688\n",
            "_________________________________________________________________\n"
          ],
          "name": "stdout"
        }
      ]
    },
    {
      "cell_type": "markdown",
      "metadata": {
        "id": "ZMjADtiLcduU"
      },
      "source": [
        "### Testing Model 4\n",
        "\n",
        "This model will likely take considerably longer to train (10-30 minutes depending on number of epochs, and whichever GPU Colab assigned to your runtime) . It may be a good time to take a coffee break, or work on your report for a bit.\n"
      ]
    },
    {
      "cell_type": "code",
      "metadata": {
        "id": "5YyVprVxcduV",
        "colab": {
          "base_uri": "https://localhost:8080/",
          "height": 1000
        },
        "outputId": "6a6facbb-99f8-4ce5-bfbd-ca0c8646e494"
      },
      "source": [
        "tf.keras.backend.clear_session() # clear previously compiled models\n",
        "\n",
        "optimizer = optimizers.Adam(lr = LEARNING_RATE) # set optimizer\n",
        "\n",
        "# get network\n",
        "model_4 = build_model_4() \n",
        "\n",
        "\n",
        "\n",
        "# compile network\n",
        "model_4.compile(\n",
        "    optimizer=optimizer,\n",
        "    loss=tf.keras.losses.SparseCategoricalCrossentropy(from_logits=True),\n",
        "    metrics=[\"accuracy\"],\n",
        ")\n",
        "\n",
        "perf_and_test(model_4, \"Model 4\")"
      ],
      "execution_count": 19,
      "outputs": [
        {
          "output_type": "stream",
          "text": [
            "Epoch 1/25\n",
            "1875/1875 [==============================] - 25s 13ms/step - loss: 1.0471 - accuracy: 0.6305\n",
            "Epoch 2/25\n",
            "1875/1875 [==============================] - 24s 13ms/step - loss: 0.4304 - accuracy: 0.8368\n",
            "Epoch 3/25\n",
            "1875/1875 [==============================] - 25s 13ms/step - loss: 0.3286 - accuracy: 0.8778\n",
            "Epoch 4/25\n",
            "1875/1875 [==============================] - 25s 13ms/step - loss: 0.2818 - accuracy: 0.8949\n",
            "Epoch 5/25\n",
            "1875/1875 [==============================] - 25s 13ms/step - loss: 0.2524 - accuracy: 0.9065\n",
            "Epoch 6/25\n",
            "1875/1875 [==============================] - 25s 13ms/step - loss: 0.2262 - accuracy: 0.9160\n",
            "Epoch 7/25\n",
            "1875/1875 [==============================] - 25s 13ms/step - loss: 0.2154 - accuracy: 0.9191\n",
            "Epoch 8/25\n",
            "1875/1875 [==============================] - 25s 13ms/step - loss: 0.1995 - accuracy: 0.9254\n",
            "Epoch 9/25\n",
            "1875/1875 [==============================] - 25s 13ms/step - loss: 0.1809 - accuracy: 0.9306\n",
            "Epoch 10/25\n",
            "1875/1875 [==============================] - 25s 13ms/step - loss: 0.1740 - accuracy: 0.9350\n",
            "Epoch 11/25\n",
            "1875/1875 [==============================] - 25s 13ms/step - loss: 0.1600 - accuracy: 0.9400\n",
            "Epoch 12/25\n",
            "1875/1875 [==============================] - 25s 13ms/step - loss: 0.1558 - accuracy: 0.9417\n",
            "Epoch 13/25\n",
            "1875/1875 [==============================] - 25s 13ms/step - loss: 0.1452 - accuracy: 0.9456\n",
            "Epoch 14/25\n",
            "1875/1875 [==============================] - 25s 13ms/step - loss: 0.1374 - accuracy: 0.9486\n",
            "Epoch 15/25\n",
            "1875/1875 [==============================] - 25s 13ms/step - loss: 0.1296 - accuracy: 0.9500\n",
            "Epoch 16/25\n",
            "1875/1875 [==============================] - 25s 13ms/step - loss: 0.1246 - accuracy: 0.9529\n",
            "Epoch 17/25\n",
            "1875/1875 [==============================] - 25s 13ms/step - loss: 0.1169 - accuracy: 0.9562\n",
            "Epoch 18/25\n",
            "1875/1875 [==============================] - 25s 13ms/step - loss: 0.1121 - accuracy: 0.9576\n",
            "Epoch 19/25\n",
            "1875/1875 [==============================] - 25s 13ms/step - loss: 0.1075 - accuracy: 0.9596\n",
            "Epoch 20/25\n",
            "1875/1875 [==============================] - 25s 13ms/step - loss: 0.1033 - accuracy: 0.9606\n",
            "Epoch 21/25\n",
            "1875/1875 [==============================] - 25s 13ms/step - loss: 0.0969 - accuracy: 0.9642\n",
            "Epoch 22/25\n",
            "1875/1875 [==============================] - 25s 13ms/step - loss: 0.0901 - accuracy: 0.9651\n",
            "Epoch 23/25\n",
            "1875/1875 [==============================] - 25s 13ms/step - loss: 0.0889 - accuracy: 0.9666\n",
            "Epoch 24/25\n",
            "1875/1875 [==============================] - 25s 13ms/step - loss: 0.0787 - accuracy: 0.9704\n",
            "Epoch 25/25\n",
            "1875/1875 [==============================] - 25s 13ms/step - loss: 0.0767 - accuracy: 0.9706\n",
            "\n",
            "Model 4 testing information\n",
            "\n",
            "\n",
            "Training took  625.47 seconds\n",
            "\n",
            "\n",
            "Testing statistics\n",
            "\n",
            "313/313 - 2s - loss: 0.2178 - accuracy: 0.9371\n"
          ],
          "name": "stdout"
        },
        {
          "output_type": "display_data",
          "data": {
            "image/png": "[encoded data removed]",
            "text/plain": [
              "<Figure size 432x288 with 2 Axes>"
            ]
          },
          "metadata": {
            "tags": [],
            "needs_background": "light"
          }
        }
      ]
    }
  ]
}